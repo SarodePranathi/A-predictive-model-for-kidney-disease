{
  "nbformat": 4,
  "nbformat_minor": 0,
  "metadata": {
    "colab": {
      "provenance": []
    },
    "kernelspec": {
      "name": "python3",
      "display_name": "Python 3"
    },
    "language_info": {
      "name": "python"
    }
  },
  "cells": [
    {
      "cell_type": "code",
      "execution_count": 1,
      "metadata": {
        "id": "EnI_QBGgR7to"
      },
      "outputs": [],
      "source": [
        "labels = ['id', 'age', 'bp', 'sg', 'al', 'rbc', 'pc', 'pcc', 'bgr', 'bu', 'sc',\n",
        "       'sod', 'pot', 'hemo', 'pcv', 'htn', 'dm', 'appet', 'pe', 'ane']\n"
      ]
    },
    {
      "cell_type": "code",
      "source": [
        "input_data = []\n",
        "for label in labels:\n",
        "    input_data.append(float(input(label + ': ')))\n",
        "input_data"
      ],
      "metadata": {
        "colab": {
          "base_uri": "https://localhost:8080/"
        },
        "id": "SYcqyuSxSEnn",
        "outputId": "6b9fd16d-1be9-4f61-9c57-03d5571a7bee"
      },
      "execution_count": 2,
      "outputs": [
        {
          "name": "stdout",
          "output_type": "stream",
          "text": [
            "id: 1\n",
            "age: 25\n",
            "bp: 1\n",
            "sg: 1\n",
            "al: 1\n",
            "rbc: 1\n",
            "pc: 1\n",
            "pcc: 1\n",
            "bgr: 1\n",
            "bu: 1\n",
            "sc: 1\n",
            "sod: 1\n",
            "pot: 1\n",
            "hemo: 1\n",
            "pcv: 1\n",
            "htn: 1\n",
            "dm: 1\n",
            "appet: 1\n",
            "pe: 1\n",
            "ane: 1\n"
          ]
        },
        {
          "output_type": "execute_result",
          "data": {
            "text/plain": [
              "[1.0,\n",
              " 25.0,\n",
              " 1.0,\n",
              " 1.0,\n",
              " 1.0,\n",
              " 1.0,\n",
              " 1.0,\n",
              " 1.0,\n",
              " 1.0,\n",
              " 1.0,\n",
              " 1.0,\n",
              " 1.0,\n",
              " 1.0,\n",
              " 1.0,\n",
              " 1.0,\n",
              " 1.0,\n",
              " 1.0,\n",
              " 1.0,\n",
              " 1.0,\n",
              " 1.0]"
            ]
          },
          "metadata": {},
          "execution_count": 2
        }
      ]
    },
    {
      "cell_type": "code",
      "source": [
        "from keras.models import load_model\n",
        "import numpy as np\n",
        "\n",
        "model = load_model('/content/kidney (1).h5')\n",
        "\n",
        "in_array = np.array([input_data])\n",
        "result = model.predict(in_array)\n",
        "\n",
        "\n",
        "if result > 0.5:\n",
        "  print('You will get kidney disease')\n",
        "else:\n",
        "  print('you are Safe')"
      ],
      "metadata": {
        "colab": {
          "base_uri": "https://localhost:8080/"
        },
        "id": "fVh1H0a_SJlQ",
        "outputId": "6fd6b8de-1dba-4cce-84ba-282d7cf2123b"
      },
      "execution_count": 4,
      "outputs": [
        {
          "output_type": "stream",
          "name": "stderr",
          "text": [
            "WARNING:absl:Compiled the loaded model, but the compiled metrics have yet to be built. `model.compile_metrics` will be empty until you train or evaluate the model.\n"
          ]
        },
        {
          "output_type": "stream",
          "name": "stdout",
          "text": [
            "\u001b[1m1/1\u001b[0m \u001b[32m━━━━━━━━━━━━━━━━━━━━\u001b[0m\u001b[37m\u001b[0m \u001b[1m0s\u001b[0m 128ms/step\n",
            "you are Safe\n"
          ]
        }
      ]
    },
    {
      "cell_type": "code",
      "source": [],
      "metadata": {
        "id": "NP8ffmqXSRqb"
      },
      "execution_count": null,
      "outputs": []
    }
  ]
}